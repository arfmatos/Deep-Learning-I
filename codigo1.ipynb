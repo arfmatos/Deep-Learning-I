{
  "cells": [
    {
      "cell_type": "markdown",
      "metadata": {
        "id": "view-in-github",
        "colab_type": "text"
      },
      "source": [
        "<a href=\"https://colab.research.google.com/github/arfmatos/Deep-Learning-I/blob/main/codigo1.ipynb\" target=\"_parent\"><img src=\"https://colab.research.google.com/assets/colab-badge.svg\" alt=\"Open In Colab\"/></a>"
      ]
    },
    {
      "cell_type": "markdown",
      "metadata": {
        "id": "ZOsaFvwwOpol"
      },
      "source": [
        "modelos Referenciais:\n",
        "\n",
        "https://keras.io/api/datasets/reuters/\n",
        "\n",
        "https://www.kaggle.com/code/drscarlat/reuters-document-classification-with-keras-tf/notebook\n"
      ]
    },
    {
      "cell_type": "markdown",
      "source": [
        "Ângelo Matos\n",
        "Disciplina: Deep Learning para processamnto de Linguagem e Visão [Turma C]\n",
        "\n",
        "Tarefa - Trilha 6\n",
        "\n",
        "Objetivo: Desenvolvimento de um categorizador de notícias utilizando redes neurais recorrentes, utilizando o conjunto de dados da Reuters"
      ],
      "metadata": {
        "id": "CCohnc71QU2h"
      }
    },
    {
      "cell_type": "markdown",
      "source": [
        "Importação das bibliotecas base"
      ],
      "metadata": {
        "id": "PyUhuzbvRDAH"
      }
    },
    {
      "cell_type": "code",
      "execution_count": 1,
      "metadata": {
        "id": "xua3xhzCOpos"
      },
      "outputs": [],
      "source": [
        "import os\n",
        "from operator import itemgetter    \n",
        "import numpy as np\n",
        "import pandas as pd\n",
        "\n",
        "import seaborn as sns\n",
        "import matplotlib.pyplot as plt\n",
        "%matplotlib inline\n",
        "from IPython import get_ipython\n",
        "get_ipython().run_line_magic('matplotlib', 'inline')\n",
        "plt.style.use('ggplot')\n",
        "\n",
        "import warnings\n",
        "warnings.filterwarnings('ignore')\n",
        "from sklearn.metrics import confusion_matrix, precision_score, recall_score, accuracy_score, f1_score\n",
        "from sklearn.model_selection import cross_val_predict\n",
        "from sklearn.metrics import confusion_matrix\n",
        "from sklearn.metrics import precision_recall_curve, average_precision_score, auc\n",
        "from sklearn.decomposition import PCA\n",
        "from sklearn.metrics import roc_curve\n",
        "from sklearn.metrics import roc_auc_score\n"
      ]
    },
    {
      "cell_type": "code",
      "execution_count": 22,
      "metadata": {
        "colab": {
          "base_uri": "https://localhost:8080/"
        },
        "id": "qDhc1wnzOpow",
        "outputId": "1c3d19be-729f-4d19-bd25-b369647168ad"
      },
      "outputs": [
        {
          "output_type": "stream",
          "name": "stdout",
          "text": [
            "2.8.2\n"
          ]
        }
      ],
      "source": [
        "import tensorflow as tf\n",
        "print(tf.__version__)\n"
      ]
    },
    {
      "cell_type": "code",
      "execution_count": 23,
      "metadata": {
        "id": "feYcZ3WNOpox"
      },
      "outputs": [],
      "source": [
        "from tensorflow import keras\n",
        "from tensorflow.python.keras import backend\n"
      ]
    },
    {
      "cell_type": "markdown",
      "source": [
        "Importação do conjunto de dados da Reuters, inclusa na biblioteca Tensorflow.keras , com o  carregamento de 10.000 palavras\n",
        "\n",
        "Criação dos conjuntos da treino e teste"
      ],
      "metadata": {
        "id": "n69QxDmVRXU5"
      }
    },
    {
      "cell_type": "code",
      "source": [
        "from tensorflow.keras.datasets import reuters\n",
        "(train_data, train_labels), (test_data, test_labels) = reuters.load_data(num_words=10000)"
      ],
      "metadata": {
        "id": "Q2fET3MRRUwO"
      },
      "execution_count": 24,
      "outputs": []
    },
    {
      "cell_type": "markdown",
      "source": [
        "Verificação da quantidade de palavras nos conjuntos de treinamento e teste"
      ],
      "metadata": {
        "id": "USsj1bWERmfD"
      }
    },
    {
      "cell_type": "code",
      "execution_count": 4,
      "metadata": {
        "colab": {
          "base_uri": "https://localhost:8080/"
        },
        "id": "OXzYHHYtOpoy",
        "outputId": "e7bfae9a-964d-45ec-c469-7162512f7397"
      },
      "outputs": [
        {
          "output_type": "stream",
          "name": "stdout",
          "text": [
            "train_data  (8982,)\n",
            "train_labels  (8982,)\n",
            "test_data  (2246,)\n",
            "test_labels  (2246,)\n"
          ]
        }
      ],
      "source": [
        "print(\"train_data \", train_data.shape)\n",
        "print(\"train_labels \", train_labels.shape)\n",
        "\n",
        "print(\"test_data \", test_data.shape)\n",
        "print(\"test_labels \", test_labels.shape)"
      ]
    },
    {
      "cell_type": "markdown",
      "source": [
        "Indexação e Decodificação das palavras"
      ],
      "metadata": {
        "id": "QOWBcFZxUbZL"
      }
    },
    {
      "cell_type": "code",
      "execution_count": 28,
      "metadata": {
        "id": "Ap33jkCfOpoz"
      },
      "outputs": [],
      "source": [
        "\n",
        "\n",
        "word_index = reuters.get_word_index()\n",
        "reverse_word_index = dict([(value, key) for (key, value) in word_index.items()])\n",
        "decoded_newswire = ' '.join([reverse_word_index.get(i - 3, '?') for i in\n",
        "train_data[0]])\n"
      ]
    },
    {
      "cell_type": "code",
      "source": [
        "decoded_newswire"
      ],
      "metadata": {
        "colab": {
          "base_uri": "https://localhost:8080/",
          "height": 55
        },
        "id": "bw_Duja8SoWo",
        "outputId": "34069279-4014-4912-c886-9ea205c5536a"
      },
      "execution_count": 29,
      "outputs": [
        {
          "output_type": "execute_result",
          "data": {
            "text/plain": [
              "'? ? ? said as a result of its december acquisition of space co it expects earnings per share in 1987 of 1 15 to 1 30 dlrs per share up from 70 cts in 1986 the company said pretax net should rise to nine to 10 mln dlrs from six mln dlrs in 1986 and rental operation revenues to 19 to 22 mln dlrs from 12 5 mln dlrs it said cash flow per share this year should be 2 50 to three dlrs reuter 3'"
            ],
            "application/vnd.google.colaboratory.intrinsic+json": {
              "type": "string"
            }
          },
          "metadata": {},
          "execution_count": 29
        }
      ]
    },
    {
      "cell_type": "code",
      "source": [
        "train_labels[0]"
      ],
      "metadata": {
        "colab": {
          "base_uri": "https://localhost:8080/"
        },
        "id": "qXlMprReSsxv",
        "outputId": "92f118e6-14cd-471a-a40d-06c2e3238805"
      },
      "execution_count": 30,
      "outputs": [
        {
          "output_type": "execute_result",
          "data": {
            "text/plain": [
              "3"
            ]
          },
          "metadata": {},
          "execution_count": 30
        }
      ]
    },
    {
      "cell_type": "markdown",
      "source": [
        "Função de vetorização"
      ],
      "metadata": {
        "id": "T0ZkvJAZTY4Q"
      }
    },
    {
      "cell_type": "code",
      "execution_count": 6,
      "metadata": {
        "id": "D7lQqOK1Opo1"
      },
      "outputs": [],
      "source": [
        "\n",
        "def vectorize_sequences(sequences, dimension=10000):\n",
        "    results = np.zeros((len(sequences), dimension))\n",
        "    for i, sequence in enumerate(sequences):\n",
        "        results[i, sequence] = 1.\n",
        "    return results"
      ]
    },
    {
      "cell_type": "markdown",
      "source": [
        "Passando os tensores de treino e teste na função de vetorização"
      ],
      "metadata": {
        "id": "AxCD5RUUTgRv"
      }
    },
    {
      "cell_type": "code",
      "execution_count": 7,
      "metadata": {
        "colab": {
          "base_uri": "https://localhost:8080/"
        },
        "id": "-Cd7WsOpOpo2",
        "outputId": "495bd010-1475-4f2d-eaf6-9282de1bca3b"
      },
      "outputs": [
        {
          "output_type": "stream",
          "name": "stdout",
          "text": [
            "x_train  (8982, 10000)\n",
            "x_test  (2246, 10000)\n"
          ]
        }
      ],
      "source": [
        "x_train = vectorize_sequences(train_data)\n",
        "x_test = vectorize_sequences(test_data)\n",
        "\n",
        "print(\"x_train \", x_train.shape)\n",
        "print(\"x_test \", x_test.shape)"
      ]
    },
    {
      "cell_type": "code",
      "execution_count": 31,
      "metadata": {
        "colab": {
          "base_uri": "https://localhost:8080/"
        },
        "id": "QhOuyff7Opo3",
        "outputId": "cc5bf50c-5296-4e8f-bccb-eeba1988a49b"
      },
      "outputs": [
        {
          "output_type": "stream",
          "name": "stdout",
          "text": [
            "Formato do One Hot Encode do conjunto de Treino: (8982, 46)\n",
            "Formato do One Hot Encode do conjunto de Teste: (2246, 46)\n"
          ]
        }
      ],
      "source": [
        "from tensorflow.keras.utils import to_categorical\n",
        "\n",
        "one_hot_train_labels = to_categorical(train_labels)\n",
        "one_hot_test_labels = to_categorical(test_labels)\n",
        "\n",
        "print(\"Formato do One Hot Encode do conjunto de Treino:\", one_hot_train_labels.shape)\n",
        "print(\"Formato do One Hot Encode do conjunto de Teste:\", one_hot_test_labels.shape)"
      ]
    },
    {
      "cell_type": "markdown",
      "source": [
        "Separação do conjunto de treino em duas partes: Conjunto de treino e conjunto de validação\n",
        "\n",
        "Ao final do treinamento/validação e verificação do desempenho do algoritmo, o modelo será submetido ao conjunto de teste, no intuito de confirmar se o modelo está aceitável mesmo ou não"
      ],
      "metadata": {
        "id": "Y7d1e8LSVXUn"
      }
    },
    {
      "cell_type": "code",
      "execution_count": 9,
      "metadata": {
        "colab": {
          "base_uri": "https://localhost:8080/"
        },
        "id": "Aml-0cV0Opo4",
        "outputId": "f3d8e31b-d06c-42ac-cc5c-685d71680809"
      },
      "outputs": [
        {
          "output_type": "stream",
          "name": "stdout",
          "text": [
            "x_val  (1000, 10000)\n",
            "y_val  (1000, 46)\n",
            "partial_x_train  (7982, 10000)\n",
            "partial_y_train  (7982, 46)\n"
          ]
        }
      ],
      "source": [
        "x_val = x_train[:1000]\n",
        "partial_x_train = x_train[1000:]\n",
        "y_val = one_hot_train_labels[:1000]\n",
        "partial_y_train = one_hot_train_labels[1000:]\n",
        "\n",
        "print(\"x_val \", x_val.shape)\n",
        "print(\"y_val \", y_val.shape)\n",
        "\n",
        "print(\"partial_x_train \", partial_x_train.shape)\n",
        "print(\"partial_y_train \", partial_y_train.shape)"
      ]
    },
    {
      "cell_type": "markdown",
      "source": [
        "Criação do Modelo da rede neural Recorrente"
      ],
      "metadata": {
        "id": "0s_BPE2VV2bn"
      }
    },
    {
      "cell_type": "code",
      "execution_count": 32,
      "metadata": {
        "colab": {
          "base_uri": "https://localhost:8080/"
        },
        "id": "8rRunYfjOpo5",
        "outputId": "345aa0ca-5cf8-46a6-cc95-1ed9be4ce7cb"
      },
      "outputs": [
        {
          "output_type": "stream",
          "name": "stdout",
          "text": [
            "Model: \"sequential_1\"\n",
            "_________________________________________________________________\n",
            " Layer (type)                Output Shape              Param #   \n",
            "=================================================================\n",
            " dense_3 (Dense)             (None, 64)                640064    \n",
            "                                                                 \n",
            " dropout_2 (Dropout)         (None, 64)                0         \n",
            "                                                                 \n",
            " dense_4 (Dense)             (None, 64)                4160      \n",
            "                                                                 \n",
            " dropout_3 (Dropout)         (None, 64)                0         \n",
            "                                                                 \n",
            " dense_5 (Dense)             (None, 46)                2990      \n",
            "                                                                 \n",
            "=================================================================\n",
            "Total params: 647,214\n",
            "Trainable params: 647,214\n",
            "Non-trainable params: 0\n",
            "_________________________________________________________________\n"
          ]
        }
      ],
      "source": [
        "\n",
        "from keras.models import Sequential\n",
        "from keras.layers import Dense, Dropout, Activation\n",
        "from tensorflow import keras\n",
        "from tensorflow.keras import layers\n",
        "from tensorflow.keras import regularizers\n",
        "\n",
        "\n",
        "\n",
        "model = keras.Sequential() \n",
        "model.add(layers.Dense(64, activation='relu', input_shape=(10000,))) \n",
        "model.add(layers.Dropout(0.5)) \n",
        "model.add(layers.Dense(64, activation='relu')) \n",
        "model.add(layers.Dropout(0.5)) \n",
        "model.add(layers.Dense(46, activation='softmax'))\n",
        "model.summary()\n",
        "\n",
        "\n",
        "\n"
      ]
    },
    {
      "cell_type": "markdown",
      "source": [
        "Treinamento do Modelo"
      ],
      "metadata": {
        "id": "v0-jj3YjWDmg"
      }
    },
    {
      "cell_type": "code",
      "execution_count": 33,
      "metadata": {
        "colab": {
          "base_uri": "https://localhost:8080/"
        },
        "id": "PC_5yTHNOpo5",
        "outputId": "b93117e6-4bc5-471d-af80-7c12458b51e0"
      },
      "outputs": [
        {
          "output_type": "stream",
          "name": "stdout",
          "text": [
            "Epoch 1/20\n",
            "16/16 [==============================] - 2s 65ms/step - loss: 3.1250 - accuracy: 0.3120 - val_loss: 2.1629 - val_accuracy: 0.5540\n",
            "Epoch 2/20\n",
            "16/16 [==============================] - 1s 45ms/step - loss: 2.1090 - accuracy: 0.5192 - val_loss: 1.6279 - val_accuracy: 0.6330\n",
            "Epoch 3/20\n",
            "16/16 [==============================] - 1s 46ms/step - loss: 1.7464 - accuracy: 0.5991 - val_loss: 1.4423 - val_accuracy: 0.6730\n",
            "Epoch 4/20\n",
            "16/16 [==============================] - 1s 45ms/step - loss: 1.5576 - accuracy: 0.6319 - val_loss: 1.3344 - val_accuracy: 0.6930\n",
            "Epoch 5/20\n",
            "16/16 [==============================] - 1s 44ms/step - loss: 1.4104 - accuracy: 0.6676 - val_loss: 1.2625 - val_accuracy: 0.7110\n",
            "Epoch 6/20\n",
            "16/16 [==============================] - 1s 45ms/step - loss: 1.3021 - accuracy: 0.6888 - val_loss: 1.2041 - val_accuracy: 0.7270\n",
            "Epoch 7/20\n",
            "16/16 [==============================] - 1s 46ms/step - loss: 1.2167 - accuracy: 0.7137 - val_loss: 1.1554 - val_accuracy: 0.7510\n",
            "Epoch 8/20\n",
            "16/16 [==============================] - 1s 45ms/step - loss: 1.1494 - accuracy: 0.7235 - val_loss: 1.1177 - val_accuracy: 0.7600\n",
            "Epoch 9/20\n",
            "16/16 [==============================] - 1s 47ms/step - loss: 1.0687 - accuracy: 0.7471 - val_loss: 1.0949 - val_accuracy: 0.7600\n",
            "Epoch 10/20\n",
            "16/16 [==============================] - 1s 45ms/step - loss: 1.0270 - accuracy: 0.7491 - val_loss: 1.0749 - val_accuracy: 0.7680\n",
            "Epoch 11/20\n",
            "16/16 [==============================] - 1s 46ms/step - loss: 0.9723 - accuracy: 0.7621 - val_loss: 1.0648 - val_accuracy: 0.7650\n",
            "Epoch 12/20\n",
            "16/16 [==============================] - 1s 46ms/step - loss: 0.9225 - accuracy: 0.7677 - val_loss: 1.0456 - val_accuracy: 0.7720\n",
            "Epoch 13/20\n",
            "16/16 [==============================] - 1s 46ms/step - loss: 0.8769 - accuracy: 0.7824 - val_loss: 1.0444 - val_accuracy: 0.7740\n",
            "Epoch 14/20\n",
            "16/16 [==============================] - 1s 48ms/step - loss: 0.8361 - accuracy: 0.7898 - val_loss: 1.0278 - val_accuracy: 0.7820\n",
            "Epoch 15/20\n",
            "16/16 [==============================] - 1s 56ms/step - loss: 0.8050 - accuracy: 0.7974 - val_loss: 1.0163 - val_accuracy: 0.7850\n",
            "Epoch 16/20\n",
            "16/16 [==============================] - 1s 56ms/step - loss: 0.7712 - accuracy: 0.8069 - val_loss: 1.0137 - val_accuracy: 0.7890\n",
            "Epoch 17/20\n",
            "16/16 [==============================] - 1s 45ms/step - loss: 0.7378 - accuracy: 0.8127 - val_loss: 1.0146 - val_accuracy: 0.7930\n",
            "Epoch 18/20\n",
            "16/16 [==============================] - 1s 46ms/step - loss: 0.7105 - accuracy: 0.8187 - val_loss: 1.0222 - val_accuracy: 0.7930\n",
            "Epoch 19/20\n",
            "16/16 [==============================] - 1s 47ms/step - loss: 0.6756 - accuracy: 0.8230 - val_loss: 1.0341 - val_accuracy: 0.7980\n",
            "Epoch 20/20\n",
            "16/16 [==============================] - 1s 44ms/step - loss: 0.6574 - accuracy: 0.8272 - val_loss: 1.0243 - val_accuracy: 0.8020\n",
            "71/71 [==============================] - 0s 3ms/step - loss: 1.1239 - accuracy: 0.7698\n",
            "____________________________________________________________________________________________________\n",
            "Test Loss and Accuracy\n",
            "results  [1.1239439249038696, 0.7698130011558533]\n"
          ]
        },
        {
          "output_type": "execute_result",
          "data": {
            "text/plain": [
              "dict_keys(['loss', 'accuracy', 'val_loss', 'val_accuracy'])"
            ]
          },
          "metadata": {},
          "execution_count": 33
        }
      ],
      "source": [
        "\n",
        "NumEpochs = 20\n",
        "BatchSize = 512\n",
        "\n",
        "model.compile(optimizer='rmsprop',loss='categorical_crossentropy',metrics=['accuracy']) \n",
        "history = model.fit(partial_x_train,partial_y_train,epochs=NumEpochs, batch_size=BatchSize, validation_data=(x_val, y_val))\n",
        "\n",
        "results = model.evaluate(x_test, one_hot_test_labels)\n",
        "\n",
        "print(\"_\"*100) \n",
        "print(\"Test Loss and Accuracy\")\n",
        "print(\"results \", results)\n",
        "\n",
        "history_dict = history.history\n",
        "history_dict.keys()\n",
        "\n",
        "\n",
        "\n"
      ]
    },
    {
      "cell_type": "code",
      "execution_count": 35,
      "metadata": {
        "colab": {
          "base_uri": "https://localhost:8080/",
          "height": 470
        },
        "id": "21d6T9s4Opo6",
        "outputId": "7d2dcdfc-727f-4832-8f41-a862b4b926e0"
      },
      "outputs": [
        {
          "output_type": "display_data",
          "data": {
            "text/plain": [
              "<Figure size 640x480 with 1 Axes>"
            ],
            "image/png": "[encoded data removed]"
          },
          "metadata": {}
        }
      ],
      "source": [
        "# VALIDATION LOSS curves\n",
        "\n",
        "plt.clf()\n",
        "loss = history.history['loss']\n",
        "val_loss = history.history['val_loss']\n",
        "epochs = range(1, len(loss) + 1)\n",
        "plt.plot(epochs, loss, 'bo', label='loss no treinamento')\n",
        "plt.plot(epochs, val_loss, 'b', label='loss na validação')\n",
        "plt.title('Curva de evolução do treinamento')\n",
        "plt.xlabel('Epocas')\n",
        "plt.ylabel('Loss')\n",
        "plt.legend()\n",
        "plt.show()"
      ]
    },
    {
      "cell_type": "markdown",
      "source": [
        "Validação das curvas de acurácia"
      ],
      "metadata": {
        "id": "wwgKU8ydWs6Y"
      }
    },
    {
      "cell_type": "code",
      "execution_count": 38,
      "metadata": {
        "colab": {
          "base_uri": "https://localhost:8080/",
          "height": 471
        },
        "id": "PWqplOhAOpo7",
        "outputId": "1e63dc4f-864d-40b6-8fd9-e32bd3c3af65"
      },
      "outputs": [
        {
          "output_type": "display_data",
          "data": {
            "text/plain": [
              "<Figure size 640x480 with 1 Axes>"
            ],
            "image/png": "[encoded data removed]"
          },
          "metadata": {}
        }
      ],
      "source": [
        "\n",
        "plt.clf()\n",
        "acc = history.history['accuracy']\n",
        "val_acc = history.history['val_accuracy']\n",
        "\n",
        "plt.plot(epochs, acc, 'bo', label='Acurácia no treinamento')\n",
        "plt.plot(epochs, val_acc, 'b', label='Acurácia na validação')\n",
        "\n",
        "plt.title('Acurácia no treinamento e na validação')\n",
        "plt.xlabel('Epocas')\n",
        "plt.ylabel('Acurácia')\n",
        "plt.legend()\n",
        "plt.show()\n",
        "\n"
      ]
    },
    {
      "cell_type": "code",
      "execution_count": 39,
      "metadata": {
        "colab": {
          "base_uri": "https://localhost:8080/",
          "height": 572
        },
        "id": "Fz9wJWwNOpo7",
        "outputId": "ae32f83c-d4c0-4c18-90bf-c4682f2556a8"
      },
      "outputs": [
        {
          "output_type": "stream",
          "name": "stdout",
          "text": [
            "['Solarize_Light2', '_classic_test_patch', 'bmh', 'classic', 'dark_background', 'fast', 'fivethirtyeight', 'ggplot', 'grayscale', 'seaborn', 'seaborn-bright', 'seaborn-colorblind', 'seaborn-dark', 'seaborn-dark-palette', 'seaborn-darkgrid', 'seaborn-deep', 'seaborn-muted', 'seaborn-notebook', 'seaborn-paper', 'seaborn-pastel', 'seaborn-poster', 'seaborn-talk', 'seaborn-ticks', 'seaborn-white', 'seaborn-whitegrid', 'tableau-colorblind10']\n"
          ]
        },
        {
          "output_type": "display_data",
          "data": {
            "text/plain": [
              "<Figure size 800x560 with 1 Axes>"
            ],
            "image/png": "[encoded data removed]"
          },
          "metadata": {}
        }
      ],
      "source": [
        "\n",
        "xc=range(NumEpochs)\n",
        "loss = history.history['loss']\n",
        "val_loss = history.history['val_loss']\n",
        "\n",
        "plt.figure(1,figsize=(10,7))\n",
        "plt.plot(xc,loss)\n",
        "plt.plot(xc,val_loss)\n",
        "plt.xlabel('num of Epochs')\n",
        "plt.ylabel('loss')\n",
        "plt.title('Loss no treinamento vs Loss na validação')\n",
        "plt.grid(True)\n",
        "plt.legend(['train','val'])\n",
        "print (plt.style.available) # use bmh, classic,ggplot for big pictures\n",
        "plt.style.use(['classic'])"
      ]
    },
    {
      "cell_type": "markdown",
      "source": [
        "O desempenho do modelo criado foi satisfatório, esse desempenho foi observado  os conjuntos de treino e validação, nas linhas a seguir o modelo vai ser testado no conjunto de teste"
      ],
      "metadata": {
        "id": "vhPRXN40XZJd"
      }
    },
    {
      "cell_type": "code",
      "execution_count": 40,
      "metadata": {
        "colab": {
          "base_uri": "https://localhost:8080/"
        },
        "id": "CMBp5b73Opo9",
        "outputId": "8f68eff5-fda6-47bc-fe9a-0d38a9bff45d"
      },
      "outputs": [
        {
          "output_type": "stream",
          "name": "stdout",
          "text": [
            "(46,)\n",
            "1.0000001\n",
            "4\n"
          ]
        }
      ],
      "source": [
        "\n",
        "predictions = model.predict(x_test)\n",
        "# Cada entrada nas previsões é um vetor de comprimento 46\n",
        "print(predictions[123].shape)\n",
        "\n",
        "# Os coeficientes neste vetor somam 1:\n",
        "print(np.sum(predictions[123]))\n",
        "\n",
        "# A maior entrada é a classe prevista — a classe com a maior probabilidade:\n",
        "print(np.argmax(predictions[123]))"
      ]
    },
    {
      "cell_type": "markdown",
      "source": [
        "Obtenção das três melhores classes"
      ],
      "metadata": {
        "id": "ku1iV1o2ZNfK"
      }
    },
    {
      "cell_type": "code",
      "execution_count": 41,
      "metadata": {
        "colab": {
          "base_uri": "https://localhost:8080/"
        },
        "id": "Kwr_d4_oOpo-",
        "outputId": "2dbec19c-14da-48f8-b25b-9e2761f31e8d"
      },
      "outputs": [
        {
          "output_type": "execute_result",
          "data": {
            "text/plain": [
              "array([ 3,  4, 16])"
            ]
          },
          "metadata": {},
          "execution_count": 41
        }
      ],
      "source": [
        "predictions[21].argsort()[-3:][::-1]"
      ]
    },
    {
      "cell_type": "code",
      "execution_count": 42,
      "metadata": {
        "colab": {
          "base_uri": "https://localhost:8080/"
        },
        "id": "TFZ9DhcNOpo-",
        "outputId": "7398f8c5-d82f-489d-c53b-f6d583e6d2ec"
      },
      "outputs": [
        {
          "output_type": "execute_result",
          "data": {
            "text/plain": [
              "3"
            ]
          },
          "metadata": {},
          "execution_count": 42
        }
      ],
      "source": [
        "test_labels[21]"
      ]
    },
    {
      "cell_type": "code",
      "execution_count": 43,
      "metadata": {
        "colab": {
          "base_uri": "https://localhost:8080/"
        },
        "id": "TH7c_e7_Opo_",
        "outputId": "70e682b4-d85c-4540-97bc-7e354f13c7f4"
      },
      "outputs": [
        {
          "output_type": "stream",
          "name": "stdout",
          "text": [
            "6\n",
            "[ 6  3 23]\n"
          ]
        },
        {
          "output_type": "execute_result",
          "data": {
            "text/plain": [
              "True"
            ]
          },
          "metadata": {},
          "execution_count": 43
        }
      ],
      "source": [
        "SampleNum = 2125\n",
        "\n",
        "print(test_labels[SampleNum])\n",
        "print(predictions[SampleNum].argsort()[-3:][::-1])\n",
        "\n",
        "test_labels[SampleNum] in predictions[SampleNum].argsort()[-3:][::-1]"
      ]
    },
    {
      "cell_type": "markdown",
      "source": [
        "Criação de uma matriz das três principais classes"
      ],
      "metadata": {
        "id": "EATqXVSRZbPn"
      }
    },
    {
      "cell_type": "code",
      "execution_count": 44,
      "metadata": {
        "colab": {
          "base_uri": "https://localhost:8080/"
        },
        "id": "paQ-WRL8Opo_",
        "outputId": "67d65471-74ea-4f03-ade9-259e9cd70a90"
      },
      "outputs": [
        {
          "output_type": "stream",
          "name": "stdout",
          "text": [
            "(2246, 3)\n"
          ]
        },
        {
          "output_type": "execute_result",
          "data": {
            "text/plain": [
              "array([[ 3,  4, 19],\n",
              "       [10,  9, 18],\n",
              "       [ 1, 16,  2],\n",
              "       ...,\n",
              "       [ 3,  4, 20],\n",
              "       [ 3,  4, 16],\n",
              "       [ 1, 24,  2]])"
            ]
          },
          "metadata": {},
          "execution_count": 44
        }
      ],
      "source": [
        "Top3Preds = np.zeros((2246,3), dtype=int)\n",
        "print(Top3Preds.shape)\n",
        "\n",
        "for SampleNum in range(predictions.shape[0]):\n",
        "    Top3Preds[SampleNum] = predictions[SampleNum].argsort()[-3:][::-1]\n",
        "    \n",
        "Top3Preds"
      ]
    },
    {
      "cell_type": "markdown",
      "source": [
        ""
      ],
      "metadata": {
        "id": "Y1oBJ072ZqNg"
      }
    },
    {
      "cell_type": "code",
      "execution_count": 20,
      "metadata": {
        "colab": {
          "base_uri": "https://localhost:8080/"
        },
        "id": "u5uXWJAQOpo_",
        "outputId": "972c91bd-1328-4430-8025-08a4b32a2d9f"
      },
      "outputs": [
        {
          "output_type": "stream",
          "name": "stdout",
          "text": [
            "(2246, 1)\n"
          ]
        },
        {
          "output_type": "execute_result",
          "data": {
            "text/plain": [
              "array([[1],\n",
              "       [1],\n",
              "       [1],\n",
              "       ...,\n",
              "       [1],\n",
              "       [1],\n",
              "       [1]])"
            ]
          },
          "metadata": {},
          "execution_count": 20
        }
      ],
      "source": [
        "\n",
        "\n",
        "FinalPreds = np.zeros((2246,1), dtype=int)\n",
        "print(FinalPreds.shape)\n",
        "\n",
        "for SampleNum in range(Top3Preds.shape[0]):\n",
        "    if test_labels[SampleNum] in Top3Preds[SampleNum]:\n",
        "        FinalPreds[SampleNum] = 1\n",
        "        \n",
        "FinalPreds"
      ]
    },
    {
      "cell_type": "markdown",
      "source": [
        "Calculo das previsões em 0 e 1 para a matriz de confusão"
      ],
      "metadata": {
        "id": "bzVtNEhrZ2zv"
      }
    },
    {
      "cell_type": "code",
      "execution_count": 46,
      "metadata": {
        "colab": {
          "base_uri": "https://localhost:8080/"
        },
        "id": "_ufbCe1GOppA",
        "outputId": "4b1c44c1-6cb5-4e9b-d372-ff84b3986da8"
      },
      "outputs": [
        {
          "output_type": "stream",
          "name": "stdout",
          "text": [
            " O percentual aferido para que um dos três primeiros esteja correto: 87.8 %\n"
          ]
        }
      ],
      "source": [
        "FinalPreds = pd.DataFrame(FinalPreds)\n",
        "NumTop3 = FinalPreds[0][FinalPreds[0] == 1].count()\n",
        "percentTop3 = round(100 *NumTop3 / FinalPreds.shape[0], 1)\n",
        "\n",
        "print(' O percentual aferido para que um dos três primeiros esteja correto:', percentTop3, '%')"
      ]
    },
    {
      "cell_type": "markdown",
      "source": [
        "Conclusões: O percentual aferido de 87,5% demonstra que o modelo de rede neural recorrente obteve um desempenho excelente"
      ],
      "metadata": {
        "id": "6ZtxPN_qahy4"
      }
    }
  ],
  "metadata": {
    "interpreter": {
      "hash": "734a4e0586e95bcbee4a96f158794ea4442b50baade18a682171f58dc2161c71"
    },
    "kernelspec": {
      "display_name": "Python 3.9.7 ('PY39')",
      "language": "python",
      "name": "python3"
    },
    "language_info": {
      "codemirror_mode": {
        "name": "ipython",
        "version": 3
      },
      "file_extension": ".py",
      "mimetype": "text/x-python",
      "name": "python",
      "nbconvert_exporter": "python",
      "pygments_lexer": "ipython3",
      "version": "3.9.7"
    },
    "orig_nbformat": 4,
    "colab": {
      "name": "codigo1.ipynb",
      "provenance": [],
      "collapsed_sections": [],
      "include_colab_link": true
    }
  },
  "nbformat": 4,
  "nbformat_minor": 0
}